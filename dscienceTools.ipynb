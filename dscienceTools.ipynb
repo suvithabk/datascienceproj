{
  "metadata": {
    "kernelspec": {
      "name": "python",
      "display_name": "Python (Pyodide)",
      "language": "python"
    },
    "language_info": {
      "codemirror_mode": {
        "name": "python",
        "version": 3
      },
      "file_extension": ".py",
      "mimetype": "text/x-python",
      "name": "python",
      "nbconvert_exporter": "python",
      "pygments_lexer": "ipython3",
      "version": "3.8"
    }
  },
  "nbformat_minor": 4,
  "nbformat": 4,
  "cells": [
    {
      "cell_type": "markdown",
      "source": "# Tools for data science",
      "metadata": {}
    },
    {
      "cell_type": "markdown",
      "source": "# In this notebook, data science tools, libraries and languages are listed",
      "metadata": {}
    },
    {
      "cell_type": "markdown",
      "source": "# Popular Data science languages \n1. Python\n2. R\n3. SQL\n4. Java\n",
      "metadata": {}
    },
    {
      "cell_type": "markdown",
      "source": "# Commonly used  data science libraries\n 1. Pandas\n 2. Numpy\n 3. Plotly\n 4. MatPlotLib\n",
      "metadata": {}
    },
    {
      "cell_type": "markdown",
      "source": "# Some widely used  data science Tools\n1. Jupyter Notebook.\n2. Python\n3. Power BI.\n4. Aparche Spark",
      "metadata": {}
    },
    {
      "cell_type": "markdown",
      "source": "### Below are some arithmetic expression examples",
      "metadata": {}
    },
    {
      "cell_type": "code",
      "source": "# This a simple arithmetic expression to mutiply then add integers\n(20*5)+3",
      "metadata": {
        "trusted": true
      },
      "outputs": [
        {
          "execution_count": 4,
          "output_type": "execute_result",
          "data": {
            "text/plain": "103"
          },
          "metadata": {}
        }
      ],
      "execution_count": 4
    },
    {
      "cell_type": "code",
      "source": "# Below expression will convert minutes to hours (here 100 minutes to hours)\n100/60",
      "metadata": {
        "trusted": true
      },
      "outputs": [
        {
          "execution_count": 5,
          "output_type": "execute_result",
          "data": {
            "text/plain": "1.6666666666666667"
          },
          "metadata": {}
        }
      ],
      "execution_count": 5
    },
    {
      "cell_type": "markdown",
      "source": "*** Objectives ***\n- Commonly used data science languages\n- Commonly used data science libraries\n- Commonly used data science tools\n- Some examples of arithemitic expressions",
      "metadata": {}
    },
    {
      "cell_type": "markdown",
      "source": "## Author\nsuvitha bakkamanthala",
      "metadata": {}
    },
    {
      "cell_type": "code",
      "source": "",
      "metadata": {
        "trusted": true
      },
      "outputs": [],
      "execution_count": null
    }
  ]
}